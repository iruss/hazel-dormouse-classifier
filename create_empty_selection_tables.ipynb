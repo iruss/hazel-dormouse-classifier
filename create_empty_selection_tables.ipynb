{
 "cells": [
  {
   "cell_type": "code",
   "execution_count": null,
   "id": "8c6c5120-f977-40e1-b48b-9e8c7d5c4b0b",
   "metadata": {},
   "outputs": [],
   "source": [
    "# Load libraries\n",
    "from dotenv import load_dotenv\n",
    "import os\n",
    "import glob\n",
    "import shutil"
   ]
  },
  {
   "cell_type": "code",
   "execution_count": null,
   "id": "d2a8032c-0ebf-4a87-b917-1b6b4aba669f",
   "metadata": {},
   "outputs": [],
   "source": [
    "# Load local file paths from .env file and create variables\n",
    "load_dotenv()\n",
    "\n",
    "# Get file path for selection table template\n",
    "template_path = os.getenv('selection_table_template')\n",
    "\n",
    "# Get directory containing .wav audio files you want an empty selection table for\n",
    "audio_files_dir = os.getenv('audio_files_dir')"
   ]
  },
  {
   "cell_type": "code",
   "execution_count": null,
   "id": "7d1cd68f-b914-42d7-acbb-5a4a6bddfd2a",
   "metadata": {},
   "outputs": [],
   "source": [
    "# Define function to get list of audio file names without extension\n",
    "def list_files(dir, ext):\n",
    "    return [file.rsplit('.', 1)[0] for file in glob.glob(f\"{dir}/*{ext}\")]"
   ]
  },
  {
   "cell_type": "code",
   "execution_count": null,
   "id": "20c10b05-ca2c-4ba6-a46e-e3a77d611b95",
   "metadata": {},
   "outputs": [],
   "source": [
    "# Get individual file paths for audio files\n",
    "audio_files = list_files(audio_files_dir, ext='.WAV') + list_files(audio_files_dir, ext='.wav')"
   ]
  },
  {
   "cell_type": "code",
   "execution_count": null,
   "id": "71a27c52-d13f-49f6-8f5b-f8f0e759099b",
   "metadata": {},
   "outputs": [],
   "source": [
    "# Make a copy of the empty selection table for each audio file\n",
    "for file in audio_files:\n",
    "    new_path = file + '.Table.1.selections.txt'\n",
    "    shutil.copyfile(template_path, new_path)"
   ]
  }
 ],
 "metadata": {
  "kernelspec": {
   "display_name": "Python 3 (ipykernel)",
   "language": "python",
   "name": "python3"
  },
  "language_info": {
   "codemirror_mode": {
    "name": "ipython",
    "version": 3
   },
   "file_extension": ".py",
   "mimetype": "text/x-python",
   "name": "python",
   "nbconvert_exporter": "python",
   "pygments_lexer": "ipython3",
   "version": "3.10.16"
  }
 },
 "nbformat": 4,
 "nbformat_minor": 5
}
