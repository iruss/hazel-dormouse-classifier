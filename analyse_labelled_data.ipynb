{
 "cells": [
  {
   "cell_type": "code",
   "execution_count": null,
   "id": "0c989b05-8960-46a4-b56f-1bd9476cbfb3",
   "metadata": {},
   "outputs": [],
   "source": [
    "from dotenv import load_dotenv\n",
    "import os\n",
    "import pandas as pd\n",
    "import glob\n",
    "from opensoundscape.annotations import BoxedAnnotations\n",
    "from itertools import compress\n",
    "import statsmodels.formula.api as smf\n",
    "import numpy as np"
   ]
  },
  {
   "cell_type": "code",
   "execution_count": null,
   "id": "7b27fb03-c4e8-4ac9-8aec-5ca100c8de7b",
   "metadata": {},
   "outputs": [],
   "source": [
    "# Get selection table file paths\n",
    "# Load local file paths from .env file and create variables\n",
    "load_dotenv()\n",
    "\n",
    "# all_sample_dirs = os.getenv('all_sample_dirs')\n",
    "all_sample_dirs = '/mnt/c/Users/isobe/Raven Lite 2/Selections/calke_abbey_sample1'"
   ]
  },
  {
   "cell_type": "code",
   "execution_count": null,
   "id": "c82cffdf-95ba-42fb-95a0-dccb8d371fd3",
   "metadata": {},
   "outputs": [],
   "source": [
    "# Define function to get .txt file names from comma-separated list of directories\n",
    "def list_files(dirs, ext):\n",
    "    \n",
    "    # Split directories into separate file paths where there are multiple\n",
    "    dirs_list = dirs.split(\",\")\n",
    "\n",
    "    # Get list of relevant file paths from all specified folders\n",
    "    file_paths = [file for x in dirs_list for file in glob.glob(f\"{x}/*{ext}\")]\n",
    "\n",
    "    # Return list\n",
    "    return file_paths"
   ]
  },
  {
   "cell_type": "code",
   "execution_count": null,
   "id": "e94a5640-d7a1-47bf-ab0c-c497e46e405b",
   "metadata": {},
   "outputs": [],
   "source": [
    "# Get list of selection table files\n",
    "file_list = list_files(all_sample_dirs, ext='.txt')"
   ]
  },
  {
   "cell_type": "code",
   "execution_count": null,
   "id": "bbd27708-4b35-4534-a3ae-e40112fbc50b",
   "metadata": {},
   "outputs": [],
   "source": [
    "# Load annotations without audio\n",
    "annotations = BoxedAnnotations.from_raven_files(\n",
    "    file_list, annotation_column=\"Annotation\" #, audio_files = sorted(audio)\n",
    ")"
   ]
  },
  {
   "cell_type": "code",
   "execution_count": null,
   "id": "0d1d1b73-47ad-47bc-8826-b2c3496af9b1",
   "metadata": {},
   "outputs": [],
   "source": [
    "# Get dataframe from boxed annotations\n",
    "annotations_df = annotations.df"
   ]
  },
  {
   "cell_type": "code",
   "execution_count": null,
   "id": "a988d88e-0eb7-42c8-a588-d02769bbe143",
   "metadata": {},
   "outputs": [],
   "source": [
    "# Add column to annotations showing whether door was open or closed\n",
    "annotations_df['date'] = annotations_df['annotation_file'].str.slice(95, 103)\n",
    "\n",
    "annotations_df['door_open'] = annotations_df['date'].case_when(\n",
    "    [\n",
    "        (annotations_df['date'] < '20230624', False),\n",
    "        (annotations_df['date'] >= '20230624', True)\n",
    "    ]\n",
    ")"
   ]
  },
  {
   "cell_type": "code",
   "execution_count": null,
   "id": "16141245-d052-4dbb-91b1-d1fc97e485b2",
   "metadata": {},
   "outputs": [],
   "source": [
    "# Get list of files where cage door is open vs closed\n",
    "file_df = pd.DataFrame({'filename': file_list})\n",
    "file_df['date'] = file_df['filename'].str.slice(95, 103)\n",
    "file_df['door_open'] = file_df['date'].case_when(\n",
    "    [\n",
    "        (file_df['date'] < '20230624', False),\n",
    "        (file_df['date'] >= '20230624', True)\n",
    "    ]\n",
    ")\n",
    "\n",
    "door_open_files = file_df[file_df['door_open'] == True]['filename'].tolist()\n",
    "door_closed_files = file_df[file_df['door_open'] == False]['filename'].tolist()"
   ]
  },
  {
   "cell_type": "code",
   "execution_count": null,
   "id": "fe57267f-5c8d-475b-a46c-c200287b9325",
   "metadata": {},
   "outputs": [],
   "source": [
    "# Filter to dormouse calls only\n",
    "annotations_hdor = annotations_df[annotations_df['annotation'].str.startswith('hdor')]"
   ]
  },
  {
   "cell_type": "code",
   "execution_count": null,
   "id": "37ebb38e-edb8-43c9-b861-a3511839d703",
   "metadata": {},
   "outputs": [],
   "source": [
    "# Function to print statistics about vocalisation rate\n",
    "def summarise_annotations(annotations_df, file_list):\n",
    "    print(\"55s recordings containing dormouse calls\")\n",
    "    print(len(annotations_df['annotation_file'].unique()))\n",
    "    print(\"Total 55s recordings\")\n",
    "    print(len(file_list))\n",
    "    print(\"55s recordings containing calls (%)\")\n",
    "    print(len(annotations_df['annotation_file'].unique()) / len(file_list) * 100)\n",
    "    print(\"Total dormouse calls duration (s)\")\n",
    "    print(sum(annotations_df['Delta Time (s)']))\n",
    "    print(\"Dormouse calls (count)\")\n",
    "    print(len(annotations_df))\n",
    "    print(\"Total recording duration (s)\")\n",
    "    print(len(file_list) * 55)\n",
    "    print(\"Calls per minute\")\n",
    "    print(len(annotations_df) / (len(file_list) * 55 / 60))\n",
    "    print(\"Calls per hour\")\n",
    "    print(len(annotations_df) / (len(file_list) * 55 / 60) * 60)\n",
    "    print(\"Calls per minute (among recordings containing calls)\")\n",
    "    print(len(annotations_df) / (len(annotations_df['annotation_file'].unique()) * 55 / 60))"
   ]
  },
  {
   "cell_type": "code",
   "execution_count": null,
   "id": "4d478181-08d0-4b9b-82ae-6bf7e895e1ac",
   "metadata": {},
   "outputs": [],
   "source": [
    "# Get list of files where cage door is open vs closed\n",
    "file_df = pd.DataFrame({'filename': file_list})\n",
    "file_df['date'] = file_df['filename'].str.slice(95, 103)\n",
    "file_df['door_open'] = file_df['date'].case_when(\n",
    "    [\n",
    "        (file_df['date'] < '20230624', False),\n",
    "        (file_df['date'] >= '20230624', True)\n",
    "    ]\n",
    ")\n",
    "\n",
    "door_open_files = file_df[file_df['door_open'] == True]['filename'].tolist()\n",
    "door_closed_files = file_df[file_df['door_open'] == False]['filename'].tolist()\n",
    "sample1_files = file_df[file_df['filename'].str.contains('sample1')]['filename'].tolist()"
   ]
  },
  {
   "cell_type": "code",
   "execution_count": null,
   "id": "d94fce7d-fd44-434a-9bc4-696e9cce8e97",
   "metadata": {},
   "outputs": [],
   "source": [
    "# Summarise dormouse calls with the cage door closed\n",
    "print(\"Door closed (Sample 1)\")\n",
    "annotations_hdor_closed = annotations_hdor[annotations_hdor['door_open'] == False]\n",
    "summarise_annotations(annotations_hdor_closed, door_closed_files)"
   ]
  },
  {
   "cell_type": "code",
   "execution_count": null,
   "id": "a162e124-6c57-4121-af43-b436e51055f0",
   "metadata": {},
   "outputs": [],
   "source": [
    "# Summarise dormouse calls with the cage door open\n",
    "print(\"Door open (Sample 1 )\")\n",
    "annotations_hdor_open = annotations_hdor[annotations_hdor['door_open'] == True]\n",
    "summarise_annotations(annotations_hdor_open, door_open_files)"
   ]
  },
  {
   "cell_type": "code",
   "execution_count": null,
   "id": "5d0926cd-a380-40b7-b16a-eb3622571adc",
   "metadata": {},
   "outputs": [],
   "source": [
    "# Summarise dormouse calls with the cage door open or closed\n",
    "print(\"Door open or closed (i.e. all of Sample 1)\")\n",
    "summarise_annotations(annotations_hdor, file_list)"
   ]
  },
  {
   "cell_type": "code",
   "execution_count": null,
   "id": "7c0b6fdd-0f17-45ae-bd07-70f05850844c",
   "metadata": {},
   "outputs": [],
   "source": [
    "annotations_hdor"
   ]
  },
  {
   "cell_type": "code",
   "execution_count": null,
   "id": "df396875-7091-4902-8b90-318fa5fcd3e6",
   "metadata": {},
   "outputs": [],
   "source": [
    "# Summarise ascending calls with cage door open or closed\n",
    "annotations_hdor_asc = annotations_hdor[annotations_hdor['annotation'].str.startswith('hdor_asc')]\n",
    "\n",
    "print(\"Ascending calls (door open or closed)\")\n",
    "summarise_annotations(annotations_hdor_asc, file_list)"
   ]
  },
  {
   "cell_type": "code",
   "execution_count": null,
   "id": "8ec1bada-d110-4fb5-b76b-beb6b7ccda58",
   "metadata": {},
   "outputs": [],
   "source": [
    "# Summarise ascending calls with cage door open or closed\n",
    "annotations_hdor_arch = annotations_hdor[annotations_hdor['annotation'].str.startswith('hdor_arch')]\n",
    "\n",
    "print(\"Arch calls (door open or closed)\")\n",
    "summarise_annotations(annotations_hdor_arch, file_list)"
   ]
  },
  {
   "cell_type": "code",
   "execution_count": null,
   "id": "16f1bdce-9470-4b1a-9d15-948c17fe6ee2",
   "metadata": {},
   "outputs": [],
   "source": [
    "len(annotations_hdor_asc)"
   ]
  },
  {
   "cell_type": "code",
   "execution_count": null,
   "id": "2f76f7ed-6c71-476d-841d-0a186cd2cc6a",
   "metadata": {},
   "outputs": [],
   "source": [
    "# Get count of calls in each recording\n",
    "file_calls_nonzero = annotations_hdor.groupby(['annotation_file'])['annotation'].count().reset_index()\n",
    "file_calls_nonzero.rename(columns={\"annotation\": \"call_count\"}, inplace=True)\n",
    "\n",
    "# Merge to file list to include recordings with 0 calls\n",
    "file_calls = file_df.merge(file_calls_nonzero, how = 'left', left_on='filename', right_on='annotation_file')\n",
    "\n",
    "# Tidy up after merge\n",
    "file_calls = file_calls.fillna({'call_count':0})\n",
    "file_calls.drop(columns=['annotation_file'], inplace=True)\n",
    "\n",
    "# Add binary column showing whether calls are present or not\n",
    "file_calls['call_binary'] = file_calls['call_count'] > 0\n",
    "file_calls['call_binary_num'] = file_calls['call_binary'].astype(int)\n",
    "\n",
    "# Add column for cage number\n",
    "file_calls['cage'] = file_calls['filename'].str.slice(63, 65)"
   ]
  },
  {
   "cell_type": "code",
   "execution_count": null,
   "id": "eaf65a8f-d6b4-46b3-8d08-bfd4c041911c",
   "metadata": {},
   "outputs": [],
   "source": [
    "model = smf.logit(\"call_binary_num ~ door_open + C(cage)\", data=file_calls).fit()"
   ]
  },
  {
   "cell_type": "code",
   "execution_count": null,
   "id": "619a5468-5d4a-4ab7-8f71-cca7c993c313",
   "metadata": {},
   "outputs": [],
   "source": [
    "file_calls.groupby(['cage', 'door_open'])['call_count'].sum()"
   ]
  },
  {
   "cell_type": "code",
   "execution_count": null,
   "id": "983ea1a9-e4a2-44b2-81cf-73d029d094b9",
   "metadata": {},
   "outputs": [],
   "source": [
    "model.summary()"
   ]
  },
  {
   "cell_type": "code",
   "execution_count": null,
   "id": "8778ff5c-d67d-4155-92a8-df8253d24358",
   "metadata": {},
   "outputs": [],
   "source": [
    "# Add call type column\n",
    "annotations_hdor = annotations_hdor.copy()\n",
    "\n",
    "annotations_hdor['call_type'] = np.select(\n",
    "    [\n",
    "        annotations_hdor['annotation'].str.startswith('hdor_asc'),\n",
    "        annotations_hdor['annotation'].str.startswith('hdor_arch'),\n",
    "    ],\n",
    "    ['asc', 'arch'],\n",
    "    default='other'\n",
    ")\n",
    "\n",
    "# Get count of calls in each recording, split by call type\n",
    "file_calls_nonzero_call_type = annotations_hdor.groupby(['annotation_file', 'call_type'])['annotation'].count().reset_index()\n",
    "file_calls_nonzero_call_type.rename(columns={\"annotation\": \"call_count\"}, inplace=True)\n",
    "\n",
    "# Split file list rows into call types\n",
    "call_types_df = pd.DataFrame({'call_type': ['asc', 'arch', 'other']})\n",
    "file_df_call_type = file_df.merge(call_types_df, how=\"cross\")\n",
    "\n",
    "# Merge to file list to include recordings with 0 calls\n",
    "file_calls_call_type = file_df_call_type.merge(file_calls_nonzero_call_type, how = 'left', left_on=['filename', 'call_type'], right_on=['annotation_file', 'call_type'])\n",
    "\n",
    "# Tidy up after merge\n",
    "file_calls_call_type = file_calls_call_type.fillna({'call_count':0})\n",
    "file_calls_call_type.drop(columns=['annotation_file'], inplace=True)\n",
    "\n",
    "# Add binary column showing whether calls are present or not\n",
    "file_calls_call_type['call_binary'] = file_calls_call_type['call_count'] > 0\n",
    "file_calls_call_type['call_binary_num'] = file_calls_call_type['call_binary'].astype(int)\n",
    "\n",
    "# Add column for cage number\n",
    "file_calls_call_type['cage'] = file_calls_call_type['filename'].str.slice(63, 65)"
   ]
  },
  {
   "cell_type": "code",
   "execution_count": null,
   "id": "00044231-d145-44da-941f-24c83c4e97b4",
   "metadata": {},
   "outputs": [],
   "source": [
    "model = smf.logit(\"call_binary_num ~ call_type + C(cage)\", data=file_calls_call_type).fit()"
   ]
  },
  {
   "cell_type": "code",
   "execution_count": null,
   "id": "261b2521-a721-4fc9-8865-d4c04ee70c91",
   "metadata": {},
   "outputs": [],
   "source": [
    "file_calls_call_type.groupby(['cage', 'call_type'])['call_count'].sum()"
   ]
  },
  {
   "cell_type": "code",
   "execution_count": null,
   "id": "dca43cca-e7e3-4c54-b2c4-03370479fb9e",
   "metadata": {},
   "outputs": [],
   "source": [
    "model.summary()"
   ]
  }
 ],
 "metadata": {
  "kernelspec": {
   "display_name": "OpenSoundscape",
   "language": "python",
   "name": "env_name"
  },
  "language_info": {
   "codemirror_mode": {
    "name": "ipython",
    "version": 3
   },
   "file_extension": ".py",
   "mimetype": "text/x-python",
   "name": "python",
   "nbconvert_exporter": "python",
   "pygments_lexer": "ipython3",
   "version": "3.12.7"
  }
 },
 "nbformat": 4,
 "nbformat_minor": 5
}
