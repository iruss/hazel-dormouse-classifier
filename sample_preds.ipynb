{
 "cells": [
  {
   "cell_type": "code",
   "execution_count": null,
   "id": "62a478f3-0213-4dc7-9d31-04cdf4888d6c",
   "metadata": {},
   "outputs": [],
   "source": [
    "import pandas as pd\n",
    "import matplotlib.pyplot as plt\n",
    "import os\n",
    "import shutil"
   ]
  },
  {
   "cell_type": "code",
   "execution_count": null,
   "id": "a307804c-4159-4740-b169-b7d4afd8f34f",
   "metadata": {},
   "outputs": [],
   "source": [
    "optimal_threshold_asc = -5.411945"
   ]
  },
  {
   "cell_type": "code",
   "execution_count": null,
   "id": "cbbdb270-2476-424f-8dd0-527407996617",
   "metadata": {},
   "outputs": [],
   "source": [
    "# Load predictions\n",
    "preds_path = ('model_training_checkpoints/model_v33/full_predictions_v33_epoch-10.csv')\n",
    "preds_df = pd.read_csv(preds_path)"
   ]
  },
  {
   "cell_type": "code",
   "execution_count": null,
   "id": "37861250-12ed-4b70-9068-5d2f826db63d",
   "metadata": {},
   "outputs": [],
   "source": [
    "# Cages included in test dataset\n",
    "preds_df['file'].str.slice(29, 31).unique().tolist()"
   ]
  },
  {
   "cell_type": "code",
   "execution_count": null,
   "id": "562f3ca5-4951-453f-9486-d02433ee2cf7",
   "metadata": {},
   "outputs": [],
   "source": [
    "print(\"hdor_asc\")\n",
    "print(\"Max score:\")\n",
    "print(preds_df['hdor_asc'].max())\n",
    "print(\"Min score:\")\n",
    "print(preds_df['hdor_asc'].min())\n",
    "print(\"Clips above threshold:\")\n",
    "print(sum(preds_df['hdor_asc'] >= optimal_threshold_asc))\n",
    "print(\"Total clips:\")\n",
    "print(len(preds_df))"
   ]
  },
  {
   "cell_type": "code",
   "execution_count": null,
   "id": "b910bba6-479f-4e78-a743-74bbd7ca1323",
   "metadata": {},
   "outputs": [],
   "source": [
    "plt.hist(preds_df['hdor_asc'])\n",
    "plt.show()"
   ]
  },
  {
   "cell_type": "code",
   "execution_count": null,
   "id": "1f8d35ac-cad1-4c72-bae3-d77978694a0f",
   "metadata": {},
   "outputs": [],
   "source": [
    "# Filter to positive predictions for hdor_asc\n",
    "asc_preds_df = preds_df[preds_df['hdor_asc'] >= optimal_threshold_asc]"
   ]
  },
  {
   "cell_type": "code",
   "execution_count": null,
   "id": "27e88b9a-4731-4351-950a-eafdb06b8a6d",
   "metadata": {},
   "outputs": [],
   "source": [
    "# Take random sample of positive predictions\n",
    "asc_sample_df = asc_preds_df.sample(n=500, random_state=1)\n",
    "\n",
    "# Remove HPC-specific part of file paths\n",
    "asc_sample_df['file_path_short'] = asc_sample_df['file'].str.split('/').str[4] + '/' + asc_sample_df['file'].str.split('/').str[5]\n",
    "\n",
    "# List files in sample to copy to folder\n",
    "asc_sample_list = asc_sample_df['file_path_short'].tolist()\n",
    "\n",
    "# Tidy up columns and indexes\n",
    "asc_sample_df.set_index(['file_path_short', 'start_time', 'end_time'], inplace=True)\n",
    "asc_sample_df = asc_sample_df[['hdor_asc', 'hdor_arch', 'hdor_all']]"
   ]
  },
  {
   "cell_type": "code",
   "execution_count": null,
   "id": "c9f5c0f0-707d-42b8-8d89-d16976f55c48",
   "metadata": {},
   "outputs": [],
   "source": [
    "# Save sample file list to csv\n",
    "asc_sample_df.to_csv('preds_tdl/_scores.csv')"
   ]
  },
  {
   "cell_type": "code",
   "execution_count": null,
   "id": "b8b98e76-5144-4342-aa76-d5d57c4b3fcc",
   "metadata": {},
   "outputs": [],
   "source": [
    "new_filename = asc_sample_list[0].split('/')[0] + '-' + asc_sample_list[0].split('/')[1]"
   ]
  },
  {
   "cell_type": "code",
   "execution_count": null,
   "id": "53342625-774e-478d-8d40-d1231e74883e",
   "metadata": {},
   "outputs": [],
   "source": [
    "# Copy selected files to audio folder\n",
    "# Results in <500 files as some files contain multiple sampled clips\n",
    "usb_dir = '/mnt/d'\n",
    "save_dir = 'preds_tdl/audio'\n",
    "os.makedirs(save_dir, exist_ok=True)\n",
    "\n",
    "for file_path in asc_sample_list:\n",
    "    usb_path = usb_dir + '/' + file_path\n",
    "    new_filename = file_path.split('/')[0] + '-' + file_path.split('/')[1]\n",
    "    save_path = save_dir + '/' + new_filename\n",
    "    shutil.copyfile(usb_path, save_path)"
   ]
  }
 ],
 "metadata": {
  "kernelspec": {
   "display_name": "Python 3 (ipykernel)",
   "language": "python",
   "name": "python3"
  },
  "language_info": {
   "codemirror_mode": {
    "name": "ipython",
    "version": 3
   },
   "file_extension": ".py",
   "mimetype": "text/x-python",
   "name": "python",
   "nbconvert_exporter": "python",
   "pygments_lexer": "ipython3",
   "version": "3.10.16"
  }
 },
 "nbformat": 4,
 "nbformat_minor": 5
}
