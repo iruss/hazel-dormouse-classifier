{
 "cells": [
  {
   "cell_type": "code",
   "execution_count": null,
   "id": "25c6c9bc-27ac-488d-8e1f-c145c58672b0",
   "metadata": {},
   "outputs": [],
   "source": [
    "# OpenSoundscape imports\n",
    "from opensoundscape import Audio, Spectrogram\n",
    "from opensoundscape.annotations import BoxedAnnotations\n",
    "\n",
    "# General-purpose packages\n",
    "import os\n",
    "import numpy as np\n",
    "import pandas as pd\n",
    "import glob\n",
    "from pathlib import Path\n",
    "from dotenv import load_dotenv\n",
    "import matplotlib.pyplot as plt"
   ]
  },
  {
   "cell_type": "code",
   "execution_count": null,
   "id": "a0ecb1a9-a390-4ca4-8709-930ea9e87d02",
   "metadata": {},
   "outputs": [],
   "source": [
    "# Get selection table file paths\n",
    "# Load local file paths from .env file and create variables\n",
    "load_dotenv()\n",
    "\n",
    "all_sample_dirs = os.getenv('all_sample_dirs')"
   ]
  },
  {
   "cell_type": "code",
   "execution_count": null,
   "id": "563eb3c3-fc90-40b0-9e3b-d0e093228622",
   "metadata": {},
   "outputs": [],
   "source": [
    "# Define function to get .txt file names from comma-separated list of directories\n",
    "def list_files(dirs):\n",
    "    \n",
    "    # Split directories into separate file paths where there are multiple\n",
    "    dirs_list = dirs.split(\",\")\n",
    "\n",
    "    # Get list of .txt selection table file paths from all specified folders\n",
    "    file_paths = [file for x in dirs_list for file in glob.glob(f\"{x}/*.txt\")]\n",
    "\n",
    "    # Return list\n",
    "    return file_paths"
   ]
  },
  {
   "cell_type": "code",
   "execution_count": null,
   "id": "e301e679-2c7a-422e-8cef-90ee92face63",
   "metadata": {},
   "outputs": [],
   "source": [
    "# Get full list of selection table files\n",
    "file_list = list_files(all_sample_dirs)"
   ]
  },
  {
   "cell_type": "code",
   "execution_count": null,
   "id": "0a5ebee2-a3fd-4455-8267-fe8cb7a0e42a",
   "metadata": {},
   "outputs": [],
   "source": [
    "# Load selection tables\n",
    "annotations = BoxedAnnotations.from_raven_files(\n",
    "    file_list, annotation_column=\"Annotation\"\n",
    ")\n",
    "\n",
    "# Convert to df\n",
    "annotations_df = annotations.df"
   ]
  },
  {
   "cell_type": "code",
   "execution_count": null,
   "id": "658fb3b3-17dc-49be-b38b-6d8b36e98aa8",
   "metadata": {},
   "outputs": [],
   "source": [
    "# Total number of box annotations in data\n",
    "annotations_df.shape[0]"
   ]
  },
  {
   "cell_type": "code",
   "execution_count": null,
   "id": "c1444ae8-f467-4940-92b7-d2b483a189ae",
   "metadata": {},
   "outputs": [],
   "source": [
    "# Number of box annotations for each label\n",
    "annotations_df.annotation.value_counts()"
   ]
  },
  {
   "cell_type": "code",
   "execution_count": null,
   "id": "de7648f7-54fc-463d-9411-7c3f5390bb9d",
   "metadata": {},
   "outputs": [],
   "source": [
    "# Filter annotations table to dormouse annotations\n",
    "annotations_hdor_df = annotations_df[annotations_df['annotation'].str.startswith('hdor')].copy()"
   ]
  },
  {
   "cell_type": "code",
   "execution_count": null,
   "id": "92ddb707-c70e-4d47-bc5e-635cdade88b6",
   "metadata": {},
   "outputs": [],
   "source": [
    "# Split cam/ncam annotation into separate column\n",
    "annotations_hdor_df['cam'] = [x.rsplit('_', 1)[1] for x in annotations_hdor_df['annotation']]"
   ]
  },
  {
   "cell_type": "code",
   "execution_count": null,
   "id": "069e6e6e-cbea-46eb-b993-0f611b498c28",
   "metadata": {},
   "outputs": [],
   "source": [
    "# Split call type into separate column\n",
    "annotations_hdor_df['call_type'] = [x.rsplit('_', 1)[0] for x in annotations_hdor_df['annotation']]"
   ]
  },
  {
   "cell_type": "code",
   "execution_count": null,
   "id": "6538cd9e-06ea-441c-9b9e-754bf411db72",
   "metadata": {},
   "outputs": [],
   "source": [
    "# Count of each call type\n",
    "annotations_hdor_df.call_type.value_counts()"
   ]
  },
  {
   "cell_type": "code",
   "execution_count": null,
   "id": "96a7cc2a-9c24-4d9c-ab0e-e7890a4f6aa0",
   "metadata": {},
   "outputs": [],
   "source": [
    "annotations_hdor_df.columns"
   ]
  },
  {
   "cell_type": "code",
   "execution_count": null,
   "id": "8337b9c5-c035-4302-b530-ee67a9113716",
   "metadata": {},
   "outputs": [],
   "source": [
    "# Average length across all call types\n",
    "annotations_hdor_df['Delta Time (s)'].mean()"
   ]
  },
  {
   "cell_type": "code",
   "execution_count": null,
   "id": "bd4311f0-7196-490d-9136-cb8b9c0e524e",
   "metadata": {},
   "outputs": [],
   "source": [
    "# Histogram of call length across types\n",
    "plt.hist(annotations_hdor_df['Delta Time (s)'])\n",
    "plt.show()"
   ]
  },
  {
   "cell_type": "code",
   "execution_count": null,
   "id": "b54900ba-b649-4961-bf4e-9e6b4c335aa5",
   "metadata": {},
   "outputs": [],
   "source": [
    "# Average length split by call type\n",
    "annotations_hdor_df.groupby('call_type')['Delta Time (s)'].mean()"
   ]
  },
  {
   "cell_type": "code",
   "execution_count": null,
   "id": "43f2e4fb-a143-4307-955e-7c108e5a2caa",
   "metadata": {},
   "outputs": [],
   "source": [
    "# Histogram of call length split by type\n",
    "annotations_hdor_df.hist('Delta Time (s)', by = 'call_type', sharex = True, figsize=(12,9))\n",
    "plt.xticks(np.arange(0, 1.25, 0.1))\n",
    "plt.show()"
   ]
  }
 ],
 "metadata": {
  "kernelspec": {
   "display_name": "Python 3 (ipykernel)",
   "language": "python",
   "name": "python3"
  },
  "language_info": {
   "codemirror_mode": {
    "name": "ipython",
    "version": 3
   },
   "file_extension": ".py",
   "mimetype": "text/x-python",
   "name": "python",
   "nbconvert_exporter": "python",
   "pygments_lexer": "ipython3",
   "version": "3.10.16"
  }
 },
 "nbformat": 4,
 "nbformat_minor": 5
}
