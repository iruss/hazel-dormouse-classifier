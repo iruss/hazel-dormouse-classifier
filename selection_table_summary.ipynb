{
 "cells": [
  {
   "cell_type": "code",
   "execution_count": 1,
   "id": "25c6c9bc-27ac-488d-8e1f-c145c58672b0",
   "metadata": {},
   "outputs": [],
   "source": [
    "# OpenSoundscape imports\n",
    "from opensoundscape import Audio, Spectrogram\n",
    "from opensoundscape.annotations import BoxedAnnotations\n",
    "\n",
    "# General-purpose packages\n",
    "import os\n",
    "import numpy as np\n",
    "import pandas as pd\n",
    "import glob\n",
    "from pathlib import Path\n",
    "from dotenv import load_dotenv\n",
    "import matplotlib.pyplot as plt"
   ]
  },
  {
   "cell_type": "code",
   "execution_count": 2,
   "id": "a0ecb1a9-a390-4ca4-8709-930ea9e87d02",
   "metadata": {},
   "outputs": [],
   "source": [
    "# Get selection table file paths\n",
    "# Load local file paths from .env file and create variables\n",
    "load_dotenv()\n",
    "\n",
    "all_sample_dirs = os.getenv('all_sample_dirs')"
   ]
  },
  {
   "cell_type": "code",
   "execution_count": 3,
   "id": "563eb3c3-fc90-40b0-9e3b-d0e093228622",
   "metadata": {},
   "outputs": [],
   "source": [
    "# Define function to get .txt file names from comma-separated list of directories\n",
    "def list_files(dirs):\n",
    "    \n",
    "    # Split directories into separate file paths where there are multiple\n",
    "    dirs_list = dirs.split(\",\")\n",
    "\n",
    "    # Get list of .txt selection table file paths from all specified folders\n",
    "    file_paths = [file for x in dirs_list for file in glob.glob(f\"{x}/*.txt\")]\n",
    "\n",
    "    # Return list\n",
    "    return file_paths"
   ]
  },
  {
   "cell_type": "code",
   "execution_count": 4,
   "id": "e301e679-2c7a-422e-8cef-90ee92face63",
   "metadata": {},
   "outputs": [],
   "source": [
    "# Get full list of selection table files\n",
    "file_list = list_files(all_sample_dirs)"
   ]
  },
  {
   "cell_type": "code",
   "execution_count": 5,
   "id": "0a5ebee2-a3fd-4455-8267-fe8cb7a0e42a",
   "metadata": {},
   "outputs": [
    {
     "name": "stderr",
     "output_type": "stream",
     "text": [
      "/home/isobelruss/anaconda3/envs/opensoundscape/lib/python3.10/site-packages/opensoundscape/annotations.py:333: FutureWarning: The behavior of DataFrame concatenation with empty or all-NA entries is deprecated. In a future version, this will no longer exclude empty or all-NA columns when determining the result dtypes. To retain the old behavior, exclude the relevant entries before the concat operation.\n",
      "  all_annotations_df = pd.concat(all_file_dfs).reset_index(drop=True)\n"
     ]
    }
   ],
   "source": [
    "# Load selection tables\n",
    "annotations = BoxedAnnotations.from_raven_files(\n",
    "    file_list, annotation_column=\"Annotation\"\n",
    ")\n",
    "\n",
    "# Convert to df\n",
    "annotations_df = annotations.df"
   ]
  },
  {
   "cell_type": "code",
   "execution_count": 6,
   "id": "658fb3b3-17dc-49be-b38b-6d8b36e98aa8",
   "metadata": {},
   "outputs": [
    {
     "data": {
      "text/plain": [
       "723"
      ]
     },
     "execution_count": 6,
     "metadata": {},
     "output_type": "execute_result"
    }
   ],
   "source": [
    "# Total number of box annotations in data\n",
    "annotations_df.shape[0]"
   ]
  },
  {
   "cell_type": "code",
   "execution_count": 7,
   "id": "c1444ae8-f467-4940-92b7-d2b483a189ae",
   "metadata": {},
   "outputs": [
    {
     "data": {
      "text/plain": [
       "annotation\n",
       "hdor_arch_cam        173\n",
       "hdor_arch_           148\n",
       "?hdor_hockey_cam      91\n",
       "hdor_                 87\n",
       "?hdor_hockey_ncam     53\n",
       "hdor_cam              32\n",
       "nhdor_ncam            21\n",
       "hdor_asc_cam          21\n",
       "hdor_asc_             21\n",
       "nhdor                 19\n",
       "nhdor_cam             11\n",
       "?nhdor_brrt           10\n",
       "?hdor_cam              9\n",
       "background             8\n",
       "hdor_ncam              7\n",
       "hdor_wig_cam           5\n",
       "?hdor_ncam             3\n",
       "hdor_asc_ncam          2\n",
       "nhdor_brrt_ncam        1\n",
       "?hdor                  1\n",
       "Name: count, dtype: int64"
      ]
     },
     "execution_count": 7,
     "metadata": {},
     "output_type": "execute_result"
    }
   ],
   "source": [
    "# Number of box annotations for each label\n",
    "annotations_df.annotation.value_counts()"
   ]
  },
  {
   "cell_type": "code",
   "execution_count": 8,
   "id": "de7648f7-54fc-463d-9411-7c3f5390bb9d",
   "metadata": {},
   "outputs": [],
   "source": [
    "# Filter annotations table to dormouse annotations\n",
    "annotations_hdor_df = annotations_df[annotations_df['annotation'].str.startswith('hdor')].copy()"
   ]
  },
  {
   "cell_type": "code",
   "execution_count": 9,
   "id": "92ddb707-c70e-4d47-bc5e-635cdade88b6",
   "metadata": {},
   "outputs": [],
   "source": [
    "# Split cam/ncam annotation into separate column\n",
    "annotations_hdor_df['cam'] = [x.rsplit('_', 1)[1] for x in annotations_hdor_df['annotation']]"
   ]
  },
  {
   "cell_type": "code",
   "execution_count": 10,
   "id": "069e6e6e-cbea-46eb-b993-0f611b498c28",
   "metadata": {},
   "outputs": [],
   "source": [
    "# Split call type into separate column\n",
    "annotations_hdor_df['call_type'] = [x.rsplit('_', 1)[0] for x in annotations_hdor_df['annotation']]"
   ]
  },
  {
   "cell_type": "code",
   "execution_count": 11,
   "id": "6538cd9e-06ea-441c-9b9e-754bf411db72",
   "metadata": {},
   "outputs": [
    {
     "data": {
      "text/plain": [
       "call_type\n",
       "hdor_arch    321\n",
       "hdor         126\n",
       "hdor_asc      44\n",
       "hdor_wig       5\n",
       "Name: count, dtype: int64"
      ]
     },
     "execution_count": 11,
     "metadata": {},
     "output_type": "execute_result"
    }
   ],
   "source": [
    "# Count of each call type\n",
    "annotations_hdor_df.call_type.value_counts()"
   ]
  },
  {
   "cell_type": "code",
   "execution_count": 12,
   "id": "8337b9c5-c035-4302-b530-ee67a9113716",
   "metadata": {},
   "outputs": [
    {
     "data": {
      "text/plain": [
       "0.10288850806451612"
      ]
     },
     "execution_count": 12,
     "metadata": {},
     "output_type": "execute_result"
    }
   ],
   "source": [
    "# Average length across all call types\n",
    "annotations_hdor_df['Delta Time (s)'].mean()"
   ]
  },
  {
   "cell_type": "code",
   "execution_count": 13,
   "id": "bd4311f0-7196-490d-9136-cb8b9c0e524e",
   "metadata": {},
   "outputs": [
    {
     "data": {
      "image/png": "[encoded data removed]",
      "text/plain": [
       "<Figure size 640x480 with 1 Axes>"
      ]
     },
     "metadata": {},
     "output_type": "display_data"
    }
   ],
   "source": [
    "# Histogram of call length across types\n",
    "plt.hist(annotations_hdor_df['Delta Time (s)'])\n",
    "plt.show()"
   ]
  },
  {
   "cell_type": "code",
   "execution_count": 14,
   "id": "b54900ba-b649-4961-bf4e-9e6b4c335aa5",
   "metadata": {},
   "outputs": [
    {
     "data": {
      "text/plain": [
       "call_type\n",
       "hdor         0.145122\n",
       "hdor_arch    0.024350\n",
       "hdor_asc     0.532152\n",
       "hdor_wig     0.303220\n",
       "Name: Delta Time (s), dtype: float64"
      ]
     },
     "execution_count": 14,
     "metadata": {},
     "output_type": "execute_result"
    }
   ],
   "source": [
    "# Average length split by call type\n",
    "annotations_hdor_df.groupby('call_type')['Delta Time (s)'].mean()"
   ]
  },
  {
   "cell_type": "code",
   "execution_count": 17,
   "id": "cce2ca7a-d6f0-4559-85da-29fad90a91df",
   "metadata": {},
   "outputs": [
    {
     "data": {
      "text/plain": [
       "0.10288850806451612"
      ]
     },
     "execution_count": 17,
     "metadata": {},
     "output_type": "execute_result"
    }
   ],
   "source": [
    "# Average length across all call types\n",
    "annotations_hdor_df['Delta Time (s)'].mean()"
   ]
  },
  {
   "cell_type": "code",
   "execution_count": 18,
   "id": "b670d00f-b605-4629-bf66-ee1ff84072e6",
   "metadata": {},
   "outputs": [
    {
     "data": {
      "text/plain": [
       "call_type\n",
       "hdor         0.6823\n",
       "hdor_arch    0.2911\n",
       "hdor_asc     1.2664\n",
       "hdor_wig     0.3687\n",
       "Name: Delta Time (s), dtype: float64"
      ]
     },
     "execution_count": 18,
     "metadata": {},
     "output_type": "execute_result"
    }
   ],
   "source": [
    "# Max length split by call type\n",
    "annotations_hdor_df.groupby('call_type')['Delta Time (s)'].max()"
   ]
  },
  {
   "cell_type": "code",
   "execution_count": 19,
   "id": "75026c71-1b95-4803-835e-1727de43615e",
   "metadata": {},
   "outputs": [
    {
     "data": {
      "text/plain": [
       "1.2664"
      ]
     },
     "execution_count": 19,
     "metadata": {},
     "output_type": "execute_result"
    }
   ],
   "source": [
    "# Max length across all call types\n",
    "annotations_hdor_df['Delta Time (s)'].max()"
   ]
  },
  {
   "cell_type": "code",
   "execution_count": 20,
   "id": "8ccc8ba0-4248-4603-80d5-6bd585a84060",
   "metadata": {},
   "outputs": [
    {
     "data": {
      "text/plain": [
       "call_type\n",
       "hdor         0.0108\n",
       "hdor_arch    0.0077\n",
       "hdor_asc     0.1625\n",
       "hdor_wig     0.2241\n",
       "Name: Delta Time (s), dtype: float64"
      ]
     },
     "execution_count": 20,
     "metadata": {},
     "output_type": "execute_result"
    }
   ],
   "source": [
    "# Minimum length split by call type\n",
    "annotations_hdor_df.groupby('call_type')['Delta Time (s)'].min()"
   ]
  },
  {
   "cell_type": "code",
   "execution_count": 21,
   "id": "27dbd26f-1e9d-4994-acc9-159c9ea09801",
   "metadata": {},
   "outputs": [
    {
     "data": {
      "text/plain": [
       "0.0077"
      ]
     },
     "execution_count": 21,
     "metadata": {},
     "output_type": "execute_result"
    }
   ],
   "source": [
    "# Minimum length across all call types\n",
    "annotations_hdor_df['Delta Time (s)'].min()"
   ]
  },
  {
   "cell_type": "code",
   "execution_count": 22,
   "id": "43f2e4fb-a143-4307-955e-7c108e5a2caa",
   "metadata": {},
   "outputs": [
    {
     "data": {
      "image/png": "[encoded data removed]",
      "text/plain": [
       "<Figure size 1200x900 with 4 Axes>"
      ]
     },
     "metadata": {},
     "output_type": "display_data"
    }
   ],
   "source": [
    "# Histogram of call length split by type\n",
    "annotations_hdor_df.hist('Delta Time (s)', by = 'call_type', sharex = True, figsize=(12,9))\n",
    "plt.xticks(np.arange(0, 1.25, 0.1))\n",
    "plt.show()"
   ]
  },
  {
   "cell_type": "code",
   "execution_count": 24,
   "id": "fad126d7-e89c-4c86-8daf-b6ec0842b9f8",
   "metadata": {},
   "outputs": [
    {
     "data": {
      "text/plain": [
       "call_type\n",
       "hdor         67672.089\n",
       "hdor_arch    52560.865\n",
       "hdor_asc     46780.278\n",
       "hdor_wig     51780.609\n",
       "Name: high_f, dtype: float64"
      ]
     },
     "execution_count": 24,
     "metadata": {},
     "output_type": "execute_result"
    }
   ],
   "source": [
    "# Maximum frequency of dormouse calls split by call type\n",
    "annotations_hdor_df.groupby('call_type')['high_f'].max()"
   ]
  },
  {
   "cell_type": "code",
   "execution_count": 25,
   "id": "2410f8ca-338e-447f-b354-cbff16449bf2",
   "metadata": {},
   "outputs": [
    {
     "data": {
      "text/plain": [
       "67672.089"
      ]
     },
     "execution_count": 25,
     "metadata": {},
     "output_type": "execute_result"
    }
   ],
   "source": [
    "# Maximum frequency of dormouse calls across all call types\n",
    "annotations_hdor_df['high_f'].max()"
   ]
  },
  {
   "cell_type": "code",
   "execution_count": 26,
   "id": "6374bf9e-ee51-48b8-a405-9de6b656d385",
   "metadata": {},
   "outputs": [
    {
     "data": {
      "text/plain": [
       "call_type\n",
       "hdor          9457.280\n",
       "hdor_arch    10192.846\n",
       "hdor_asc     20555.893\n",
       "hdor_wig     47161.639\n",
       "Name: high_f, dtype: float64"
      ]
     },
     "execution_count": 26,
     "metadata": {},
     "output_type": "execute_result"
    }
   ],
   "source": [
    "# Minimum frequency of dormouse calls split by call type\n",
    "annotations_hdor_df.groupby('call_type')['high_f'].min()"
   ]
  },
  {
   "cell_type": "code",
   "execution_count": 27,
   "id": "6eb71d60-dbbc-4769-8431-66f80291b8b3",
   "metadata": {},
   "outputs": [
    {
     "data": {
      "text/plain": [
       "9457.28"
      ]
     },
     "execution_count": 27,
     "metadata": {},
     "output_type": "execute_result"
    }
   ],
   "source": [
    "# Minimum frequency of dormouse calls across all call types\n",
    "annotations_hdor_df['high_f'].min()"
   ]
  },
  {
   "cell_type": "code",
   "execution_count": 25,
   "id": "e106a495-169b-4952-8d80-9e6c44742074",
   "metadata": {},
   "outputs": [
    {
     "data": {
      "text/plain": [
       "2861.212"
      ]
     },
     "execution_count": 25,
     "metadata": {},
     "output_type": "execute_result"
    }
   ],
   "source": [
    "annotations_hdor_df['Delta Freq (Hz)'].min()"
   ]
  }
 ],
 "metadata": {
  "kernelspec": {
   "display_name": "Python 3 (ipykernel)",
   "language": "python",
   "name": "python3"
  },
  "language_info": {
   "codemirror_mode": {
    "name": "ipython",
    "version": 3
   },
   "file_extension": ".py",
   "mimetype": "text/x-python",
   "name": "python",
   "nbconvert_exporter": "python",
   "pygments_lexer": "ipython3",
   "version": "3.10.16"
  }
 },
 "nbformat": 4,
 "nbformat_minor": 5
}
