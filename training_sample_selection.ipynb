{
 "cells": [
  {
   "cell_type": "code",
   "execution_count": null,
   "id": "486a6254-4105-4163-8f8f-ed6cf02a1b9b",
   "metadata": {},
   "outputs": [],
   "source": [
    "# Load packages\n",
    "import os\n",
    "import glob\n",
    "from pathlib import Path\n",
    "import shutil\n",
    "import pandas as pd\n",
    "from dotenv import load_dotenv"
   ]
  },
  {
   "cell_type": "code",
   "execution_count": null,
   "id": "2ff11610-bd66-40ae-a448-efb5a65a71ab",
   "metadata": {},
   "outputs": [],
   "source": [
    "# Load local file paths from .env file and create variables\n",
    "load_dotenv()\n",
    "\n",
    "data_dirs = os.getenv('data_dirs')\n",
    "data_dirs_parent = os.getenv('data_dirs_parent')\n",
    "data_paths_txt = os.getenv('data_paths_txt')\n",
    "prev_sample_dirs = os.getenv('prev_sample_dirs')\n",
    "new_sample_dir = os.getenv('new_sample_dir')"
   ]
  },
  {
   "cell_type": "code",
   "execution_count": null,
   "id": "00444d34-d8f0-433a-93d4-ff2ce15fc7ec",
   "metadata": {},
   "outputs": [],
   "source": [
    "# Define function to get file names from comma-separated list of directories\n",
    "def list_files(dirs):\n",
    "    \n",
    "    # Split directories into separate file paths where there are multiple\n",
    "    dirs_list = dirs.split(\",\")\n",
    "\n",
    "    # Get list of .WAV audio file paths from all specified folders\n",
    "    file_paths = [file for x in dirs_list for file in glob.glob(f\"{x}/*.WAV\")]\n",
    "\n",
    "    # Return list\n",
    "    return file_paths"
   ]
  },
  {
   "cell_type": "code",
   "execution_count": null,
   "id": "283a57da-8200-4bcf-a0b5-8864e3ce9bb7",
   "metadata": {},
   "outputs": [],
   "source": [
    "# Get full list of files to sample from\n",
    "file_list = list_files(data_dirs)\n",
    "\n",
    "# Add metadata (cage number, audiomoth number) from file path to file name, and drop rest of file path\n",
    "file_list = [x.rsplit('/', 2)[1] + '-' + x.rsplit('/', 2)[2] for x in file_list]"
   ]
  },
  {
   "cell_type": "code",
   "execution_count": null,
   "id": "2bd43a52-1a8c-46b9-b4b7-8c234000d854",
   "metadata": {},
   "outputs": [],
   "source": [
    "# For sampling from a newline separated .txt of file paths\n",
    "# NOTE: Comment out if you're selecting the sample from a folder specified in .env instead\n",
    "with open(data_paths_txt, 'r') as file:\n",
    "    data_paths = [line.strip() for line in file.readlines()]\n",
    "\n",
    "data_paths = [data_dirs + '/' + x for x in data_paths]\n",
    "\n",
    "file_list = [x.rsplit('/', 2)[1] + '-' + x.rsplit('/', 2)[2] for x in data_paths]"
   ]
  },
  {
   "cell_type": "code",
   "execution_count": null,
   "id": "37b976ee-bdca-4b78-ba6c-1945c11b7621",
   "metadata": {},
   "outputs": [],
   "source": [
    "# Get list of previous samples to avoid sampling (i.e. take a sample without replacement)\n",
    "prev_samples = list_files(prev_sample_dirs)\n",
    "\n",
    "# Get file name, removing rest of file path\n",
    "# Previous samples already have the metadata I need (cage number, audiomoth number) in the file name\n",
    "prev_samples = [x.rsplit('/', 1)[1] for x in prev_samples]"
   ]
  },
  {
   "cell_type": "code",
   "execution_count": null,
   "id": "8f758bd4-c0fd-4694-928b-265f4a96c762",
   "metadata": {},
   "outputs": [],
   "source": [
    "# Get list of files to sample from, excluding previous samples\n",
    "file_list_sampling = set(file_list) - set(prev_samples)"
   ]
  },
  {
   "cell_type": "code",
   "execution_count": null,
   "id": "292a4263-3713-430a-a85b-189cc7c0bc64",
   "metadata": {},
   "outputs": [],
   "source": [
    "# Make dataframe with 1 row per file\n",
    "file_df = pd.DataFrame({'file_path': list(file_list_sampling)})"
   ]
  },
  {
   "cell_type": "code",
   "execution_count": null,
   "id": "a784a3cd-8e31-412f-8e22-4a5499b7de35",
   "metadata": {},
   "outputs": [],
   "source": [
    "# Prep variables to stratify by\n",
    "file_df['cage'] = file_df['file_path'].str.slice(0, 2)\n",
    "file_df['date'] = file_df['file_path'].str.slice(32, 40)\n",
    "file_df['start_time'] = file_df['file_path'].str.slice(41, 47)\n",
    "file_df['start_hour'] = file_df['start_time'].str.slice(0, 2)\n",
    "file_df['file_name'] = file_df['file_path'].str.replace(\"/\", \"_\")"
   ]
  },
  {
   "cell_type": "code",
   "execution_count": null,
   "id": "91febe4d-fb52-4f73-b363-e98d97943513",
   "metadata": {},
   "outputs": [],
   "source": [
    "# Split start times into 3 bins\n",
    "# My AudioMoths were configured to record from 20:00 to 03:30 which makes these roughly equal\n",
    "file_df['time_bin'] = file_df['start_hour'].case_when(\n",
    "    [\n",
    "        (file_df['start_hour'].isin(['20', '21', '22']), 'early'),\n",
    "        (file_df['start_hour'].isin(['23', '00', '01']), 'mid'),\n",
    "        (file_df['start_hour'].isin(['02', '03', '04']), 'late')\n",
    "    ]\n",
    ")"
   ]
  },
  {
   "cell_type": "code",
   "execution_count": null,
   "id": "5070f154-81f8-4d2d-8695-3194fac38396",
   "metadata": {},
   "outputs": [],
   "source": [
    "# Check whether door was open or closed based on date\n",
    "file_df['door_open'] = file_df['date'].case_when(\n",
    "    [\n",
    "        (file_df['date'] < '20230624', False),\n",
    "        (file_df['date'] >= '20230624', True)\n",
    "    ]\n",
    ")"
   ]
  },
  {
   "cell_type": "code",
   "execution_count": null,
   "id": "dc1073d3-04a2-481f-a638-0dc13a0de6a4",
   "metadata": {},
   "outputs": [],
   "source": [
    "# Group by variables and take stratified random sample\n",
    "sample_df = file_df.groupby(['cage', 'time_bin', 'door_open']).sample(n=20, random_state=1)"
   ]
  },
  {
   "cell_type": "code",
   "execution_count": null,
   "id": "f7959c74-0bb8-45b1-b3bf-e973cea0ee3b",
   "metadata": {},
   "outputs": [],
   "source": [
    "# Tidy up list of file paths to copy from\n",
    "sample = sample_df['file_path'].tolist()"
   ]
  },
  {
   "cell_type": "code",
   "execution_count": null,
   "id": "373c553b-3894-49e4-bd12-ee2e1ca299a3",
   "metadata": {},
   "outputs": [],
   "source": [
    "# Copy selected files to a new folder\n",
    "save_dir = new_sample_dir\n",
    "os.makedirs(save_dir, exist_ok=True)\n",
    "\n",
    "for file_name in sample:\n",
    "    file_path = data_dirs_parent + file_name.replace(\"-\", \"/\")\n",
    "    save_path = save_dir + '/' + file_name\n",
    "    shutil.copyfile(file_path, save_path)"
   ]
  }
 ],
 "metadata": {
  "kernelspec": {
   "display_name": "Python 3 (ipykernel)",
   "language": "python",
   "name": "python3"
  },
  "language_info": {
   "codemirror_mode": {
    "name": "ipython",
    "version": 3
   },
   "file_extension": ".py",
   "mimetype": "text/x-python",
   "name": "python",
   "nbconvert_exporter": "python",
   "pygments_lexer": "ipython3",
   "version": "3.10.16"
  }
 },
 "nbformat": 4,
 "nbformat_minor": 5
}
