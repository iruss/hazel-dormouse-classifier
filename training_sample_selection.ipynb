{
 "cells": [
  {
   "cell_type": "code",
   "execution_count": null,
   "id": "486a6254-4105-4163-8f8f-ed6cf02a1b9b",
   "metadata": {},
   "outputs": [],
   "source": [
    "# Load packages\n",
    "import os\n",
    "import glob\n",
    "from pathlib import Path\n",
    "import shutil\n",
    "import pandas as pd"
   ]
  },
  {
   "cell_type": "code",
   "execution_count": null,
   "id": "ea9b97d0-2af6-4685-b2fb-6944f9dabee3",
   "metadata": {},
   "outputs": [],
   "source": [
    "# Change working directory to external drive containing data\n",
    "path = '/mnt/e/'\n",
    "os.chdir(path)"
   ]
  },
  {
   "cell_type": "code",
   "execution_count": null,
   "id": "6c998d4b-c6d3-4204-84f5-31f75bd4b795",
   "metadata": {},
   "outputs": [],
   "source": [
    "# Get list of .WAV audio files from 3 selected cages\n",
    "path = [\"01_NR23_CalkeAbbey_Dormouse_M*\",\n",
    "        \"03_NR23_CalkeAbbey_Dormouse_M*\",\n",
    "        \"11_NR23_CalkeAbbey_Dormouse_M*\"]\n",
    "\n",
    "file_list = glob.glob(f\"{path[0]}/*.WAV\") + glob.glob(f\"{path[1]}/*.WAV\") + glob.glob(f\"{path[2]}/*.WAV\")"
   ]
  },
  {
   "cell_type": "code",
   "execution_count": null,
   "id": "292a4263-3713-430a-a85b-189cc7c0bc64",
   "metadata": {},
   "outputs": [],
   "source": [
    "# Make dataframe with 1 row per file\n",
    "file_df = pd.DataFrame({'file_path': file_list})"
   ]
  },
  {
   "cell_type": "code",
   "execution_count": null,
   "id": "a784a3cd-8e31-412f-8e22-4a5499b7de35",
   "metadata": {},
   "outputs": [],
   "source": [
    "# Prep variables to stratify by\n",
    "file_df['cage'] = file_df['file_path'].str.slice(0, 2)\n",
    "file_df['date'] = file_df['file_path'].str.slice(32, 40)\n",
    "file_df['start_time'] = file_df['file_path'].str.slice(41, 47)\n",
    "file_df['start_hour'] = file_df['start_time'].str.slice(0, 2)\n",
    "file_df['file_name'] = file_df['file_path'].str.replace(\"/\", \"_\")"
   ]
  },
  {
   "cell_type": "code",
   "execution_count": null,
   "id": "91febe4d-fb52-4f73-b363-e98d97943513",
   "metadata": {},
   "outputs": [],
   "source": [
    "# Split start times into 3 equal bins\n",
    "file_df['time_bin'] = file_df['start_hour'].case_when(\n",
    "    [\n",
    "        (file_df['start_hour'].isin(['20', '21', '22']), 'early'),\n",
    "        (file_df['start_hour'].isin(['23', '00', '01']), 'mid'),\n",
    "        (file_df['start_hour'].isin(['02', '03', '04']), 'late')\n",
    "    ]\n",
    ")"
   ]
  },
  {
   "cell_type": "code",
   "execution_count": null,
   "id": "5070f154-81f8-4d2d-8695-3194fac38396",
   "metadata": {},
   "outputs": [],
   "source": [
    "# Check whether door was open or closed based on date\n",
    "file_df['door_open'] = file_df['date'].case_when(\n",
    "    [\n",
    "        (file_df['date'] < '20230624', False),\n",
    "        (file_df['date'] >= '20230624', True)\n",
    "    ]\n",
    ")"
   ]
  },
  {
   "cell_type": "code",
   "execution_count": null,
   "id": "dc1073d3-04a2-481f-a638-0dc13a0de6a4",
   "metadata": {},
   "outputs": [],
   "source": [
    "# Group by variables and take stratified random sample\n",
    "sample_df = file_df.groupby(['cage', 'time_bin', 'door_open']).sample(n=20, random_state=1)"
   ]
  },
  {
   "cell_type": "code",
   "execution_count": null,
   "id": "f7959c74-0bb8-45b1-b3bf-e973cea0ee3b",
   "metadata": {},
   "outputs": [],
   "source": [
    "sample = sample_df['file_path'].tolist()"
   ]
  },
  {
   "cell_type": "code",
   "execution_count": null,
   "id": "373c553b-3894-49e4-bd12-ee2e1ca299a3",
   "metadata": {},
   "outputs": [],
   "source": [
    "# Copy selected files to a new folder\n",
    "# save_dir = 'train_sample'\n",
    "# Path(save_dir).mkdir(exist_ok=True)\n",
    "save_dir = '/mnt/c/Users/isobe/Documents/Hazel dormouse data/calke_abbey_sample1'\n",
    "os.makedirs(save_dir, exist_ok=True)\n",
    "\n",
    "for x in sample:\n",
    "    file_name = x.replace(\"/\", \"_\")\n",
    "    save_path = save_dir + '/' + file_name\n",
    "    shutil.copyfile(x, save_path)"
   ]
  }
 ],
 "metadata": {
  "kernelspec": {
   "display_name": "Python 3 (ipykernel)",
   "language": "python",
   "name": "python3"
  },
  "language_info": {
   "codemirror_mode": {
    "name": "ipython",
    "version": 3
   },
   "file_extension": ".py",
   "mimetype": "text/x-python",
   "name": "python",
   "nbconvert_exporter": "python",
   "pygments_lexer": "ipython3",
   "version": "3.10.16"
  }
 },
 "nbformat": 4,
 "nbformat_minor": 5
}
