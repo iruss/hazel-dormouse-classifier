{
 "cells": [
  {
   "cell_type": "code",
   "execution_count": null,
   "id": "069d8739-09b6-4cb6-a642-101fb3db5f38",
   "metadata": {},
   "outputs": [],
   "source": [
    "import glob\n",
    "import os\n",
    "from dotenv import load_dotenv"
   ]
  },
  {
   "cell_type": "code",
   "execution_count": null,
   "id": "3183aa75-72f6-4707-9df2-da3479fc938a",
   "metadata": {},
   "outputs": [],
   "source": [
    "# Load file path for previous sample from .env\n",
    "# NOTE: This notebook only expects prev_sample_dirs to contain one file path. Can change this at some point if needed.\n",
    "load_dotenv()\n",
    "\n",
    "dir_path = os.getenv('prev_sample_dirs')\n",
    "\n",
    "os.chdir(dir_path)"
   ]
  },
  {
   "cell_type": "code",
   "execution_count": null,
   "id": "5ef93af3-f662-487f-b455-5503b7ee538f",
   "metadata": {},
   "outputs": [],
   "source": [
    "for old_filename in os.listdir(dir_path):\n",
    "    # Get new file name, replacing underscore with hyphen\n",
    "    new_filename = old_filename[:31] + '-' + old_filename[32:]\n",
    "\n",
    "    # Rename file\n",
    "    os.rename(old_filename, new_filename)"
   ]
  }
 ],
 "metadata": {
  "kernelspec": {
   "display_name": "Python 3 (ipykernel)",
   "language": "python",
   "name": "python3"
  },
  "language_info": {
   "codemirror_mode": {
    "name": "ipython",
    "version": 3
   },
   "file_extension": ".py",
   "mimetype": "text/x-python",
   "name": "python",
   "nbconvert_exporter": "python",
   "pygments_lexer": "ipython3",
   "version": "3.10.16"
  }
 },
 "nbformat": 4,
 "nbformat_minor": 5
}
