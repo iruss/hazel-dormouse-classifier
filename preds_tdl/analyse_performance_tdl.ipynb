{
 "cells": [
  {
   "cell_type": "code",
   "execution_count": null,
   "id": "6a0f6463-5cdb-4bbc-ba5b-c906dccf4d89",
   "metadata": {},
   "outputs": [],
   "source": [
    "import pandas as pd"
   ]
  },
  {
   "cell_type": "code",
   "execution_count": null,
   "id": "e9338da8-8c71-4422-b73c-bfe8cb0b0f8e",
   "metadata": {},
   "outputs": [],
   "source": [
    "# Read in scores and validated labels\n",
    "val_scores_path = 'audio/_scores_annotations.csv'\n",
    "val_scores_df = pd.read_csv(val_scores_path)"
   ]
  },
  {
   "cell_type": "code",
   "execution_count": null,
   "id": "c62e9cab-4490-45ee-805d-55f569bddd39",
   "metadata": {},
   "outputs": [],
   "source": [
    "val_scores_df"
   ]
  },
  {
   "cell_type": "code",
   "execution_count": null,
   "id": "737873a8-6eb6-4061-acc4-fe9ec14edabc",
   "metadata": {},
   "outputs": [],
   "source": [
    "true_pos = sum(val_scores_df['label_asc'] == '1')\n",
    "false_pos = sum(val_scores_df['label_asc'] == '0')\n",
    "other_hdor_pos = sum(val_scores_df['label_asc'] == 'u')\n",
    "total_pos = len(val_scores_df)"
   ]
  },
  {
   "cell_type": "code",
   "execution_count": null,
   "id": "0b04c862-b8da-4f57-b59e-272d6508f392",
   "metadata": {},
   "outputs": [],
   "source": [
    "hdor_asc_precision = true_pos / total_pos * 100\n",
    "false_pos_pc = false_pos / total_pos * 100\n",
    "hdor_all_precision = (true_pos + other_hdor_pos) / total_pos * 100\n",
    "hdor_other_pc = other_hdor_pos / total_pos * 100"
   ]
  },
  {
   "cell_type": "code",
   "execution_count": null,
   "id": "9cc52171-7e01-49e5-89cd-a496979be38e",
   "metadata": {},
   "outputs": [],
   "source": [
    "hdor_all_precision"
   ]
  },
  {
   "cell_type": "code",
   "execution_count": null,
   "id": "8b67d2b5-eb56-4f0f-883f-9fd6be5d2630",
   "metadata": {},
   "outputs": [],
   "source": [
    "hdor_asc_precision"
   ]
  },
  {
   "cell_type": "code",
   "execution_count": null,
   "id": "c22e8313-e812-4c5b-b6b4-8a3c9c9ad6bd",
   "metadata": {},
   "outputs": [],
   "source": [
    "hdor_other_pc"
   ]
  },
  {
   "cell_type": "code",
   "execution_count": null,
   "id": "4901d3ad-78a3-4c5c-9ae7-8dba0f9c8020",
   "metadata": {},
   "outputs": [],
   "source": [
    "false_pos_pc"
   ]
  },
  {
   "cell_type": "code",
   "execution_count": null,
   "id": "6d1c4549-f804-4dc3-a163-0d82a25f690d",
   "metadata": {},
   "outputs": [],
   "source": [
    "true_pos"
   ]
  },
  {
   "cell_type": "code",
   "execution_count": null,
   "id": "1d4cf079-bce3-43e3-a6d6-c395afa61e46",
   "metadata": {},
   "outputs": [],
   "source": [
    "other_hdor_pos"
   ]
  },
  {
   "cell_type": "code",
   "execution_count": null,
   "id": "5b393045-55eb-4cd3-afa2-cb4d6df22106",
   "metadata": {},
   "outputs": [],
   "source": [
    "false_pos"
   ]
  },
  {
   "cell_type": "code",
   "execution_count": null,
   "id": "cef9cdc9-1d1b-4f0a-9de6-6a0ef2615092",
   "metadata": {},
   "outputs": [],
   "source": [
    "total_pos"
   ]
  }
 ],
 "metadata": {
  "kernelspec": {
   "display_name": "Python 3 (ipykernel)",
   "language": "python",
   "name": "python3"
  },
  "language_info": {
   "codemirror_mode": {
    "name": "ipython",
    "version": 3
   },
   "file_extension": ".py",
   "mimetype": "text/x-python",
   "name": "python",
   "nbconvert_exporter": "python",
   "pygments_lexer": "ipython3",
   "version": "3.10.16"
  }
 },
 "nbformat": 4,
 "nbformat_minor": 5
}
